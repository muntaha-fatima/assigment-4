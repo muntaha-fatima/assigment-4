{
  "nbformat": 4,
  "nbformat_minor": 0,
  "metadata": {
    "colab": {
      "provenance": [],
      "authorship_tag": "ABX9TyNJcTnyLNjompBUK45OQsvG",
      "include_colab_link": true
    },
    "kernelspec": {
      "name": "python3",
      "display_name": "Python 3"
    },
    "language_info": {
      "name": "python"
    }
  },
  "cells": [
    {
      "cell_type": "markdown",
      "metadata": {
        "id": "view-in-github",
        "colab_type": "text"
      },
      "source": [
        "<a href=\"https://colab.research.google.com/github/muntaha-fatima/assigment-4/blob/main/01_add_two_numbers_.ipynb\" target=\"_parent\"><img src=\"https://colab.research.google.com/assets/colab-badge.svg\" alt=\"Open In Colab\"/></a>"
      ]
    },
    {
      "cell_type": "code",
      "execution_count": null,
      "metadata": {
        "colab": {
          "base_uri": "https://localhost:8080/"
        },
        "id": "2AuuxNP1jYtC",
        "outputId": "a8a2b699-2456-498c-f30c-0c3aee2de667"
      },
      "outputs": [
        {
          "output_type": "stream",
          "name": "stdout",
          "text": [
            "This program adds two numbers.\n",
            " first number: 78\n",
            " second number: 67\n",
            "The sum of 78 and 67 is 145\n"
          ]
        }
      ],
      "source": [
        "def main():\n",
        "    print(\"This program adds two numbers.\")\n",
        "    num1 = int(input(\" first number: \"))\n",
        "\n",
        "    num2 = int(input(\" second number: \"))\n",
        "\n",
        "    total = num1 + num2\n",
        "\n",
        "\n",
        "    print(f\"The sum of {num1} and {num2} is {total}\")\n",
        "\n",
        "\n",
        "main()\n"
      ]
    }
  ]
}